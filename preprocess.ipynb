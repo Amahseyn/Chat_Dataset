{
 "cells": [
  {
   "cell_type": "code",
   "execution_count": 5,
   "metadata": {},
   "outputs": [
    {
     "name": "stderr",
     "output_type": "stream",
     "text": [
      "/home/mio/anaconda3/envs/ds/lib/python3.8/site-packages/sentence_transformers/cross_encoder/CrossEncoder.py:13: TqdmExperimentalWarning: Using `tqdm.autonotebook.tqdm` in notebook mode. Use `tqdm.tqdm` instead to force console mode (e.g. in jupyter console)\n",
      "  from tqdm.autonotebook import tqdm, trange\n",
      "/tmp/ipykernel_345275/374666153.py:6: DtypeWarning: Columns (3) have mixed types. Specify dtype option on import or set low_memory=False.\n",
      "  df = pd.read_csv(\"data.csv\")\n"
     ]
    },
    {
     "name": "stdout",
     "output_type": "stream",
     "text": [
      "Preprocessing done! Embeddings saved.\n"
     ]
    }
   ],
   "source": [
    "import pandas as pd\n",
    "import numpy as np\n",
    "from sentence_transformers import SentenceTransformer\n",
    "\n",
    "# Load data\n",
    "df = pd.read_csv(\"data.csv\")\n",
    "\n",
    "# Fill missing values\n",
    "text_cols = ['property_description', 'property_overview', 'building_type', 'city']\n",
    "for col in text_cols:\n",
    "    df[col] = df[col].fillna(\"\")\n",
    "\n",
    "# Combine ALL columns into a single search string\n",
    "df[\"search_text\"] = (\n",
    "    \"Area: \" + df[\"area\"].astype(str) + \" sqft | \" +\n",
    "    \"Type: \" + df[\"building_type\"] + \" | \" +\n",
    "    \"Price: $\" + df[\"price\"].astype(str) + \" | \" +\n",
    "    \"Beds: \" + df[\"num_bed_rooms\"].astype(str) + \" | Baths: \" + df[\"num_bath_rooms\"].astype(str) + \" | \" +\n",
    "    \"Location: \" + df[\"locality\"] + \", \" + df[\"city\"] + \" | \" +\n",
    "    \"Amenities: Relaxation (\" + df[\"relaxation_amenity_count\"].astype(str) + \"), \" +\n",
    "    \"Security (\" + df[\"security_amenity_count\"].astype(str) + \"), \" +\n",
    "    \"Cleaning (\" + df[\"maintenance_or_cleaning_amenity_count\"].astype(str) + \")\"\n",
    ")\n",
    "\n",
    "# Generate embeddings\n",
    "embedder = SentenceTransformer(\"all-MiniLM-L6-v2\")  # Lightweight model\n",
    "df[\"embedding\"] = [embedder.encode(str(text)) for text in df[\"search_text\"]]\n",
    "\n",
    "# Save\n",
    "df.to_parquet(\"real_estate_embeddings.parquet\")\n",
    "print(\"Preprocessing done! Embeddings saved.\")"
   ]
  }
 ],
 "metadata": {
  "kernelspec": {
   "display_name": "ds",
   "language": "python",
   "name": "python3"
  },
  "language_info": {
   "codemirror_mode": {
    "name": "ipython",
    "version": 3
   },
   "file_extension": ".py",
   "mimetype": "text/x-python",
   "name": "python",
   "nbconvert_exporter": "python",
   "pygments_lexer": "ipython3",
   "version": "3.8.20"
  }
 },
 "nbformat": 4,
 "nbformat_minor": 2
}
