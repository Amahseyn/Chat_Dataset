{
 "cells": [
  {
   "cell_type": "code",
   "execution_count": 2,
   "metadata": {},
   "outputs": [],
   "source": [
    "import pandas as pd\n",
    "import numpy as np\n",
    "import faiss\n",
    "from sentence_transformers import SentenceTransformer\n",
    "\n",
    "# Load preprocessed data\n",
    "df = pd.read_parquet(\"real_estate_embeddings.parquet\")\n",
    "embeddings = np.stack(df[\"embedding\"].values)\n",
    "\n",
    "# Build FAISS index\n",
    "index = faiss.IndexFlatL2(embeddings.shape[1])\n",
    "index.add(embeddings)\n",
    "\n",
    "# Load embedding model\n",
    "embedder = SentenceTransformer(\"all-MiniLM-L6-v2\")\n",
    "\n",
    "def search_properties(query, top_k=5):\n",
    "    query_embed = embedder.encode(query)\n",
    "    distances, indices = index.search(np.array([query_embed]), top_k)\n",
    "    results = df.iloc[indices[0]]\n",
    "    return results[[\n",
    "        'price', 'num_bed_rooms', 'num_bath_rooms', 'area', \n",
    "        'locality', 'city', 'property_url', 'image_url'\n",
    "    ]]\n"
   ]
  },
  {
   "cell_type": "code",
   "execution_count": 3,
   "metadata": {},
   "outputs": [
    {
     "name": "stdout",
     "output_type": "stream",
     "text": [
      "            price  num_bed_rooms  num_bath_rooms    area  locality   city  \\\n",
      "1942    5900000.0            3.0             3.0  1100.0  Banasree  Dhaka   \n",
      "14820     30000.0            3.0             3.0  1300.0     Badda  Dhaka   \n",
      "23111  15000000.0            3.0             3.0  2000.0     Ramna  Dhaka   \n",
      "1768   13200000.0            3.0             3.0  1600.0  Banasree  Dhaka   \n",
      "23565  24952000.0            4.0             3.0  3119.0     Ramna  Dhaka   \n",
      "\n",
      "                                            property_url  \\\n",
      "1942   https://www.bproperty.com/en/property/details-...   \n",
      "14820  https://www.bproperty.com/en/property/details-...   \n",
      "23111      https://pbazaar.com//en/apartment-for-sell-68   \n",
      "1768   https://www.bproperty.com/en/property/details-...   \n",
      "23565     https://pbazaar.com//en/nice-flat-for-sale-247   \n",
      "\n",
      "                                               image_url  \n",
      "1942   https://images-cdn.bproperty.com/thumbnails/15...  \n",
      "14820  https://images-cdn.bproperty.com/thumbnails/71...  \n",
      "23111                                               None  \n",
      "1768   https://images-cdn.bproperty.com/thumbnails/15...  \n",
      "23565                                               None  \n"
     ]
    }
   ],
   "source": [
    "\n",
    "# Example usage\n",
    "results = search_properties(\"3-bed apartment under in Dhaka\")\n",
    "print(results)"
   ]
  }
 ],
 "metadata": {
  "kernelspec": {
   "display_name": "ds",
   "language": "python",
   "name": "python3"
  },
  "language_info": {
   "codemirror_mode": {
    "name": "ipython",
    "version": 3
   },
   "file_extension": ".py",
   "mimetype": "text/x-python",
   "name": "python",
   "nbconvert_exporter": "python",
   "pygments_lexer": "ipython3",
   "version": "3.8.20"
  }
 },
 "nbformat": 4,
 "nbformat_minor": 2
}
